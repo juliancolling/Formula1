{
  "cells": [
    {
      "cell_type": "markdown",
      "metadata": {
        "id": "0aStgWSO0E0E"
      },
      "source": [
        "# **Formula 1 Data Analysis (1999-2024)**"
      ]
    },
    {
      "cell_type": "markdown",
      "metadata": {
        "id": "1eLEkw5O0ECa"
      },
      "source": [
        "## Objectives\n",
        "\n",
        "* The objective of this notebook is to analyse the Formula 1 data from (1999-2004)\n",
        "\n",
        "## Inputs\n",
        "\n",
        "* Write down which data or information you need to run the notebook \n",
        "\n",
        "## Outputs\n",
        "\n",
        "* Write here which files, code or artefacts you generate by the end of the notebook \n",
        "\n",
        "## Additional Comments\n",
        "\n",
        "* If you have any additional comments that don't fit in the previous bullets, please state them here. \n",
        "\n"
      ]
    },
    {
      "cell_type": "markdown",
      "metadata": {
        "id": "9uWZXH9LwoQg"
      },
      "source": [
        "---"
      ]
    },
    {
      "cell_type": "markdown",
      "metadata": {
        "id": "cqP-UeN-z3i2"
      },
      "source": [
        "# Change working directory"
      ]
    },
    {
      "cell_type": "markdown",
      "metadata": {},
      "source": [
        "* We are assuming you will store the notebooks in a subfolder, therefore when running the notebook in the editor, you will need to change the working directory"
      ]
    },
    {
      "cell_type": "markdown",
      "metadata": {
        "id": "aOGIGS-uz3i2"
      },
      "source": [
        "We need to change the working directory from its current folder to its parent folder\n",
        "* We access the current directory with os.getcwd()"
      ]
    },
    {
      "cell_type": "code",
      "execution_count": 1,
      "metadata": {
        "id": "wZfF_j-Bz3i4",
        "outputId": "66943449-1436-4c3d-85c7-b85f9f78349b"
      },
      "outputs": [
        {
          "data": {
            "text/plain": [
              "'c:\\\\Users\\\\Default.DESKTOP-QO1EVKV\\\\OneDrive\\\\Documents\\\\GitHubRepos\\\\Formula1\\\\jupyter_notebooks'"
            ]
          },
          "execution_count": 1,
          "metadata": {},
          "output_type": "execute_result"
        }
      ],
      "source": [
        "import os\n",
        "current_dir = os.getcwd()\n",
        "current_dir"
      ]
    },
    {
      "cell_type": "markdown",
      "metadata": {
        "id": "9MWW8E7lz3i7"
      },
      "source": [
        "We want to make the parent of the current directory the new current directory\n",
        "* os.path.dirname() gets the parent directory\n",
        "* os.chir() defines the new current directory"
      ]
    },
    {
      "cell_type": "code",
      "execution_count": 2,
      "metadata": {
        "id": "TwHsQRWjz3i9",
        "outputId": "86849db3-cd2f-4cc5-ebb8-2d0caafa1a2c"
      },
      "outputs": [
        {
          "name": "stdout",
          "output_type": "stream",
          "text": [
            "You set a new current directory\n"
          ]
        }
      ],
      "source": [
        "os.chdir(os.path.dirname(current_dir))\n",
        "print(\"You set a new current directory\")"
      ]
    },
    {
      "cell_type": "markdown",
      "metadata": {
        "id": "M_xPk_Ijz3i-"
      },
      "source": [
        "Confirm the new current directory"
      ]
    },
    {
      "cell_type": "code",
      "execution_count": 3,
      "metadata": {
        "id": "vz3S-_kjz3jA",
        "outputId": "00b79ae4-75d0-4a96-d193-ac9ef9847ea2"
      },
      "outputs": [
        {
          "data": {
            "text/plain": [
              "'c:\\\\Users\\\\Default.DESKTOP-QO1EVKV\\\\OneDrive\\\\Documents\\\\GitHubRepos\\\\Formula1'"
            ]
          },
          "execution_count": 3,
          "metadata": {},
          "output_type": "execute_result"
        }
      ],
      "source": [
        "current_dir = os.getcwd()\n",
        "current_dir"
      ]
    },
    {
      "cell_type": "markdown",
      "metadata": {
        "id": "-mavJ8DibrcQ"
      },
      "source": [
        "# Section 1: ETL Process"
      ]
    },
    {
      "cell_type": "markdown",
      "metadata": {},
      "source": [
        "1.1  Extract: Import Libraries,Extracting and loading of data"
      ]
    },
    {
      "cell_type": "code",
      "execution_count": 4,
      "metadata": {},
      "outputs": [],
      "source": [
        "# Import required libaries \n",
        "import pandas as pd\n",
        "import numpy as np\n",
        "import matplotlib.pyplot as plt\n",
        "import seaborn as sns"
      ]
    },
    {
      "cell_type": "markdown",
      "metadata": {},
      "source": [
        "* Load the following Datasets from the (Inputs) Folder"
      ]
    },
    {
      "cell_type": "code",
      "execution_count": 5,
      "metadata": {},
      "outputs": [],
      "source": [
        "# Load the data\n",
        "races = pd.read_csv('Inputs/races.csv')\n",
        "results = pd.read_csv('Inputs/results.csv')\n",
        "drivers = pd.read_csv('Inputs/drivers.csv')\n",
        "constructors = pd.read_csv('Inputs/constructors.csv')\n",
        "circuits = pd.read_csv('Inputs/circuits.csv')\n",
        "lap_times = pd.read_csv('Inputs/lap_times.csv')\n",
        "pit_stops = pd.read_csv('Inputs/pit_stops.csv')\n",
        "qualifying = pd.read_csv('Inputs/qualifying.csv')  \n",
        "\n",
        "# Reduce the data set for races from 1999-2024  \n",
        "races = races[(races['year'] >= 1999) & (races['year'] <= 2024)] \n"
      ]
    },
    {
      "cell_type": "markdown",
      "metadata": {},
      "source": [
        "* Because there is a URL column for the datasets races,drivers,constructors and circuits, these need to be changed to make them unique And more identifiable,they will be changed to this format : url_races"
      ]
    },
    {
      "cell_type": "code",
      "execution_count": 6,
      "metadata": {},
      "outputs": [
        {
          "name": "stdout",
          "output_type": "stream",
          "text": [
            "Index(['raceId', 'year', 'round', 'circuitId', 'name', 'date', 'time',\n",
            "       'url_races', 'fp1_date', 'fp1_time', 'fp2_date', 'fp2_time', 'fp3_date',\n",
            "       'fp3_time', 'quali_date', 'quali_time', 'sprint_date', 'sprint_time'],\n",
            "      dtype='object')\n",
            "Index(['driverId', 'driverRef', 'number', 'code', 'forename', 'surname', 'dob',\n",
            "       'nationality', 'url_drivers'],\n",
            "      dtype='object')\n",
            "Index(['constructorId', 'constructorRef', 'name', 'nationality',\n",
            "       'url_constructors'],\n",
            "      dtype='object')\n",
            "Index(['circuitId', 'circuitRef', 'name', 'location', 'country', 'lat', 'lng',\n",
            "       'alt', 'url_circuits'],\n",
            "      dtype='object')\n"
          ]
        }
      ],
      "source": [
        "# Rename the 'url' column in races,drivers,constructor and circuits\n",
        "races.rename(columns={'url': 'url_races'}, inplace=True) \n",
        "drivers.rename(columns={'url': 'url_drivers'}, inplace=True) \n",
        "constructors.rename(columns={'url': 'url_constructors'}, inplace=True) \n",
        "circuits.rename(columns={'url': 'url_circuits'}, inplace=True) \n",
        "\n",
        "print(races.columns) \n",
        "print(drivers.columns) \n",
        "print(constructors.columns) \n",
        "print(circuits.columns) \n"
      ]
    },
    {
      "cell_type": "markdown",
      "metadata": {},
      "source": [
        "* Check the shape of the data sets to confirm the data has loaded properly"
      ]
    },
    {
      "cell_type": "code",
      "execution_count": 7,
      "metadata": {},
      "outputs": [
        {
          "name": "stdout",
          "output_type": "stream",
          "text": [
            "\n",
            "Dataset Shapes:\n",
            "races: (495, 18)\n",
            "results: (26759, 18)\n",
            "drivers: (861, 9)\n",
            "constructors: (212, 5)\n",
            "circuits: (77, 9)\n",
            "lap_times: (589081, 6)\n",
            "pit_stops: (11371, 7)\n",
            "qualifying: (10494, 9)\n"
          ]
        }
      ],
      "source": [
        "# Check the shape of the each data sets \n",
        "\n",
        "print('\\nDataset Shapes:') \n",
        "print('races:', races.shape) \n",
        "print('results:', results.shape) \n",
        "print('drivers:', drivers.shape) \n",
        "print('constructors:', constructors.shape) \n",
        "print('circuits:', circuits.shape) \n",
        "print('lap_times:', lap_times.shape) \n",
        "print('pit_stops:', pit_stops.shape) \n",
        "print('qualifying:', qualifying.shape)  \n",
        "\n"
      ]
    },
    {
      "cell_type": "markdown",
      "metadata": {
        "id": "ZY3l0-AxO93d"
      },
      "source": [
        "---"
      ]
    },
    {
      "cell_type": "markdown",
      "metadata": {},
      "source": [
        "* Check for missing values in the datasets"
      ]
    },
    {
      "cell_type": "code",
      "execution_count": 8,
      "metadata": {},
      "outputs": [
        {
          "name": "stdout",
          "output_type": "stream",
          "text": [
            "Missing Values:\n",
            "races: raceId         0\n",
            "year           0\n",
            "round          0\n",
            "circuitId      0\n",
            "name           0\n",
            "date           0\n",
            "time           0\n",
            "url_races      0\n",
            "fp1_date       0\n",
            "fp1_time       0\n",
            "fp2_date       0\n",
            "fp2_time       0\n",
            "fp3_date       0\n",
            "fp3_time       0\n",
            "quali_date     0\n",
            "quali_time     0\n",
            "sprint_date    0\n",
            "sprint_time    0\n",
            "dtype: int64\n",
            "results: resultId           0\n",
            "raceId             0\n",
            "driverId           0\n",
            "constructorId      0\n",
            "number             0\n",
            "grid               0\n",
            "position           0\n",
            "positionText       0\n",
            "positionOrder      0\n",
            "points             0\n",
            "laps               0\n",
            "time               0\n",
            "milliseconds       0\n",
            "fastestLap         0\n",
            "rank               0\n",
            "fastestLapTime     0\n",
            "fastestLapSpeed    0\n",
            "statusId           0\n",
            "dtype: int64\n",
            "drivers: driverId       0\n",
            "driverRef      0\n",
            "number         0\n",
            "code           0\n",
            "forename       0\n",
            "surname        0\n",
            "dob            0\n",
            "nationality    0\n",
            "url_drivers    0\n",
            "dtype: int64\n",
            "constructors: constructorId       0\n",
            "constructorRef      0\n",
            "name                0\n",
            "nationality         0\n",
            "url_constructors    0\n",
            "dtype: int64\n",
            "circuits: circuitId       0\n",
            "circuitRef      0\n",
            "name            0\n",
            "location        0\n",
            "country         0\n",
            "lat             0\n",
            "lng             0\n",
            "alt             0\n",
            "url_circuits    0\n",
            "dtype: int64\n",
            "lap_times: raceId          0\n",
            "driverId        0\n",
            "lap             0\n",
            "position        0\n",
            "time            0\n",
            "milliseconds    0\n",
            "dtype: int64\n",
            "pit_stops: raceId          0\n",
            "driverId        0\n",
            "stop            0\n",
            "lap             0\n",
            "time            0\n",
            "duration        0\n",
            "milliseconds    0\n",
            "dtype: int64\n",
            "qualifying: qualifyId         0\n",
            "raceId            0\n",
            "driverId          0\n",
            "constructorId     0\n",
            "number            0\n",
            "position          0\n",
            "q1                0\n",
            "q2               22\n",
            "q3               46\n",
            "dtype: int64\n"
          ]
        }
      ],
      "source": [
        "#Check for missing values in the datasets  \n",
        "print('Missing Values:') \n",
        "print('races:', races.isnull().sum())\n",
        "print('results:', results.isnull().sum())  \n",
        "print('drivers:', drivers.isnull().sum()) \n",
        "print('constructors:', constructors.isnull().sum()) \n",
        "print('circuits:', circuits.isnull().sum())  \n",
        "print('lap_times:', lap_times.isnull().sum()) \n",
        "print('pit_stops:', pit_stops.isnull().sum())  \n",
        "print('qualifying:', qualifying.isnull().sum())  \n"
      ]
    },
    {
      "cell_type": "markdown",
      "metadata": {},
      "source": [
        "* All the data is clean apart from q2 and q3 which I would expect considering it is qualifying for the race and will leave them in"
      ]
    },
    {
      "cell_type": "markdown",
      "metadata": {},
      "source": [
        "---"
      ]
    },
    {
      "cell_type": "markdown",
      "metadata": {},
      "source": [
        "* Data now needs merging ready for the EDA process to help analyse the hypothesis"
      ]
    },
    {
      "cell_type": "markdown",
      "metadata": {},
      "source": [
        "* Merge results with drivers"
      ]
    },
    {
      "cell_type": "code",
      "execution_count": 9,
      "metadata": {},
      "outputs": [
        {
          "name": "stdout",
          "output_type": "stream",
          "text": [
            "   resultId  raceId  driverId  constructorId number_x  grid position  \\\n",
            "0         1      18         1              1       22     1        1   \n",
            "1         2      18         2              2        3     5        2   \n",
            "2         3      18         3              3        7     7        3   \n",
            "3         4      18         4              4        5    11        4   \n",
            "4         5      18         5              1       23     3        5   \n",
            "\n",
            "  positionText  positionOrder  points  ...  fastestLapSpeed statusId  \\\n",
            "0            1              1    10.0  ...          218.300        1   \n",
            "1            2              2     8.0  ...          217.586        1   \n",
            "2            3              3     6.0  ...          216.719        1   \n",
            "3            4              4     5.0  ...          215.464        1   \n",
            "4            5              5     4.0  ...          218.385        1   \n",
            "\n",
            "    driverRef number_y code  forename     surname         dob nationality  \\\n",
            "0    hamilton       44  HAM     Lewis    Hamilton  1985-01-07     British   \n",
            "1    heidfeld       \\N  HEI      Nick    Heidfeld  1977-05-10      German   \n",
            "2     rosberg        6  ROS      Nico     Rosberg  1985-06-27      German   \n",
            "3      alonso       14  ALO  Fernando      Alonso  1981-07-29     Spanish   \n",
            "4  kovalainen       \\N  KOV    Heikki  Kovalainen  1981-10-19     Finnish   \n",
            "\n",
            "                                      url_drivers  \n",
            "0     http://en.wikipedia.org/wiki/Lewis_Hamilton  \n",
            "1      http://en.wikipedia.org/wiki/Nick_Heidfeld  \n",
            "2       http://en.wikipedia.org/wiki/Nico_Rosberg  \n",
            "3    http://en.wikipedia.org/wiki/Fernando_Alonso  \n",
            "4  http://en.wikipedia.org/wiki/Heikki_Kovalainen  \n",
            "\n",
            "[5 rows x 26 columns]\n"
          ]
        }
      ],
      "source": [
        "# Merge results with drivers\n",
        "results_drivers = results.merge(drivers, on='driverId', how='left')\n",
        "print(results_drivers.head())\n",
        "\n"
      ]
    },
    {
      "cell_type": "markdown",
      "metadata": {},
      "source": [
        "* Add constructor Information by merging results_drivers dataframe with constructors dataset"
      ]
    },
    {
      "cell_type": "code",
      "execution_count": 10,
      "metadata": {},
      "outputs": [
        {
          "name": "stdout",
          "output_type": "stream",
          "text": [
            "   resultId  raceId  driverId  constructorId number_x  grid position  \\\n",
            "0         1      18         1              1       22     1        1   \n",
            "1         2      18         2              2        3     5        2   \n",
            "2         3      18         3              3        7     7        3   \n",
            "3         4      18         4              4        5    11        4   \n",
            "4         5      18         5              1       23     3        5   \n",
            "\n",
            "  positionText  positionOrder  points  ...  code  forename     surname  \\\n",
            "0            1              1    10.0  ...   HAM     Lewis    Hamilton   \n",
            "1            2              2     8.0  ...   HEI      Nick    Heidfeld   \n",
            "2            3              3     6.0  ...   ROS      Nico     Rosberg   \n",
            "3            4              4     5.0  ...   ALO  Fernando      Alonso   \n",
            "4            5              5     4.0  ...   KOV    Heikki  Kovalainen   \n",
            "\n",
            "          dob nationality_x                                     url_drivers  \\\n",
            "0  1985-01-07       British     http://en.wikipedia.org/wiki/Lewis_Hamilton   \n",
            "1  1977-05-10        German      http://en.wikipedia.org/wiki/Nick_Heidfeld   \n",
            "2  1985-06-27        German       http://en.wikipedia.org/wiki/Nico_Rosberg   \n",
            "3  1981-07-29       Spanish    http://en.wikipedia.org/wiki/Fernando_Alonso   \n",
            "4  1981-10-19       Finnish  http://en.wikipedia.org/wiki/Heikki_Kovalainen   \n",
            "\n",
            "  constructorRef        name nationality_y  \\\n",
            "0        mclaren     McLaren       British   \n",
            "1     bmw_sauber  BMW Sauber        German   \n",
            "2       williams    Williams       British   \n",
            "3        renault     Renault        French   \n",
            "4        mclaren     McLaren       British   \n",
            "\n",
            "                                    url_constructors  \n",
            "0               http://en.wikipedia.org/wiki/McLaren  \n",
            "1            http://en.wikipedia.org/wiki/BMW_Sauber  \n",
            "2  http://en.wikipedia.org/wiki/Williams_Grand_Pr...  \n",
            "3  http://en.wikipedia.org/wiki/Renault_in_Formul...  \n",
            "4               http://en.wikipedia.org/wiki/McLaren  \n",
            "\n",
            "[5 rows x 30 columns]\n"
          ]
        }
      ],
      "source": [
        "# Merge with constructors\n",
        "results_drivers_constructors = results_drivers.merge(constructors, on='constructorId', how='left')\n",
        "print(results_drivers_constructors.head())\n"
      ]
    },
    {
      "cell_type": "markdown",
      "metadata": {},
      "source": [
        "* Now races to be added to results_drivers_constructors dateframe"
      ]
    },
    {
      "cell_type": "code",
      "execution_count": 11,
      "metadata": {},
      "outputs": [
        {
          "name": "stdout",
          "output_type": "stream",
          "text": [
            "   resultId  raceId  driverId  constructorId number_x  grid position  \\\n",
            "0         1      18         1              1       22     1        1   \n",
            "1         2      18         2              2        3     5        2   \n",
            "2         3      18         3              3        7     7        3   \n",
            "3         4      18         4              4        5    11        4   \n",
            "4         5      18         5              1       23     3        5   \n",
            "\n",
            "  positionText  positionOrder  points  ...  fp1_date fp1_time fp2_date  \\\n",
            "0            1              1    10.0  ...        \\N       \\N       \\N   \n",
            "1            2              2     8.0  ...        \\N       \\N       \\N   \n",
            "2            3              3     6.0  ...        \\N       \\N       \\N   \n",
            "3            4              4     5.0  ...        \\N       \\N       \\N   \n",
            "4            5              5     4.0  ...        \\N       \\N       \\N   \n",
            "\n",
            "  fp2_time fp3_date fp3_time quali_date  quali_time sprint_date sprint_time  \n",
            "0       \\N       \\N       \\N         \\N          \\N          \\N          \\N  \n",
            "1       \\N       \\N       \\N         \\N          \\N          \\N          \\N  \n",
            "2       \\N       \\N       \\N         \\N          \\N          \\N          \\N  \n",
            "3       \\N       \\N       \\N         \\N          \\N          \\N          \\N  \n",
            "4       \\N       \\N       \\N         \\N          \\N          \\N          \\N  \n",
            "\n",
            "[5 rows x 47 columns]\n"
          ]
        }
      ],
      "source": [
        "# Merge with races dataset\n",
        "results_drivers_constructors_races = results_drivers_constructors.merge(races, on='raceId' , how='left')\n",
        "print(results_drivers_constructors_races.head())"
      ]
    },
    {
      "cell_type": "markdown",
      "metadata": {},
      "source": [
        "* Merge with Circuits dataset to results_drivers_constructors_races dataframe "
      ]
    },
    {
      "cell_type": "code",
      "execution_count": 12,
      "metadata": {},
      "outputs": [
        {
          "name": "stdout",
          "output_type": "stream",
          "text": [
            "   resultId  raceId  driverId  constructorId number_x  grid position  \\\n",
            "0         1      18         1              1       22     1        1   \n",
            "1         2      18         2              2        3     5        2   \n",
            "2         3      18         3              3        7     7        3   \n",
            "3         4      18         4              4        5    11        4   \n",
            "4         5      18         5              1       23     3        5   \n",
            "\n",
            "  positionText  positionOrder  points  ...  sprint_date sprint_time  \\\n",
            "0            1              1    10.0  ...           \\N          \\N   \n",
            "1            2              2     8.0  ...           \\N          \\N   \n",
            "2            3              3     6.0  ...           \\N          \\N   \n",
            "3            4              4     5.0  ...           \\N          \\N   \n",
            "4            5              5     4.0  ...           \\N          \\N   \n",
            "\n",
            "    circuitRef                            name   location    country      lat  \\\n",
            "0  albert_park  Albert Park Grand Prix Circuit  Melbourne  Australia -37.8497   \n",
            "1  albert_park  Albert Park Grand Prix Circuit  Melbourne  Australia -37.8497   \n",
            "2  albert_park  Albert Park Grand Prix Circuit  Melbourne  Australia -37.8497   \n",
            "3  albert_park  Albert Park Grand Prix Circuit  Melbourne  Australia -37.8497   \n",
            "4  albert_park  Albert Park Grand Prix Circuit  Melbourne  Australia -37.8497   \n",
            "\n",
            "       lng   alt                                       url_circuits  \n",
            "0  144.968  10.0  http://en.wikipedia.org/wiki/Melbourne_Grand_P...  \n",
            "1  144.968  10.0  http://en.wikipedia.org/wiki/Melbourne_Grand_P...  \n",
            "2  144.968  10.0  http://en.wikipedia.org/wiki/Melbourne_Grand_P...  \n",
            "3  144.968  10.0  http://en.wikipedia.org/wiki/Melbourne_Grand_P...  \n",
            "4  144.968  10.0  http://en.wikipedia.org/wiki/Melbourne_Grand_P...  \n",
            "\n",
            "[5 rows x 55 columns]\n"
          ]
        }
      ],
      "source": [
        "merged_data = results_drivers_constructors_races.merge(circuits, on='circuitId', how='left')\n",
        "print(merged_data.head())"
      ]
    },
    {
      "cell_type": "code",
      "execution_count": 13,
      "metadata": {},
      "outputs": [
        {
          "name": "stdout",
          "output_type": "stream",
          "text": [
            "Index(['resultId', 'raceId', 'driverId', 'constructorId', 'number_x', 'grid',\n",
            "       'position', 'positionText', 'positionOrder', 'points', 'laps', 'time_x',\n",
            "       'milliseconds', 'fastestLap', 'rank', 'fastestLapTime',\n",
            "       'fastestLapSpeed', 'statusId', 'driverRef', 'number_y', 'code',\n",
            "       'forename', 'surname', 'dob', 'nationality_x', 'url_drivers',\n",
            "       'constructorRef', 'name_x', 'nationality_y', 'url_constructors', 'year',\n",
            "       'round', 'circuitId', 'name_y', 'date', 'time_y', 'url_races',\n",
            "       'fp1_date', 'fp1_time', 'fp2_date', 'fp2_time', 'fp3_date', 'fp3_time',\n",
            "       'quali_date', 'quali_time', 'sprint_date', 'sprint_time', 'circuitRef',\n",
            "       'name', 'location', 'country', 'lat', 'lng', 'alt', 'url_circuits'],\n",
            "      dtype='object')\n"
          ]
        }
      ],
      "source": [
        "print(merged_data.columns) "
      ]
    },
    {
      "cell_type": "markdown",
      "metadata": {},
      "source": [
        "* Save Merged Dataset to a CSV file in Outputs"
      ]
    },
    {
      "cell_type": "code",
      "execution_count": 14,
      "metadata": {},
      "outputs": [],
      "source": [
        "# Create CSV file for the merged data\n",
        "merged_data.to_csv('Outputs/F1_merged_data.csv', index=False)"
      ]
    },
    {
      "cell_type": "markdown",
      "metadata": {
        "id": "uFQo3ycuO-v6"
      },
      "source": [
        "# Section 2"
      ]
    },
    {
      "cell_type": "markdown",
      "metadata": {},
      "source": [
        "Section 2 content"
      ]
    },
    {
      "cell_type": "code",
      "execution_count": null,
      "metadata": {},
      "outputs": [
        {
          "name": "stdout",
          "output_type": "stream",
          "text": [
            "Dataset Shape: (26759, 55)\n",
            "First few rows:\n",
            "    resultId  raceId  driverId  constructorId number_x  grid position  \\\n",
            "0         1      18         1              1       22     1        1   \n",
            "1         2      18         2              2        3     5        2   \n",
            "2         3      18         3              3        7     7        3   \n",
            "3         4      18         4              4        5    11        4   \n",
            "4         5      18         5              1       23     3        5   \n",
            "\n",
            "  positionText  positionOrder  points  ...  sprint_date sprint_time  \\\n",
            "0            1              1    10.0  ...           \\N          \\N   \n",
            "1            2              2     8.0  ...           \\N          \\N   \n",
            "2            3              3     6.0  ...           \\N          \\N   \n",
            "3            4              4     5.0  ...           \\N          \\N   \n",
            "4            5              5     4.0  ...           \\N          \\N   \n",
            "\n",
            "    circuitRef                            name   location    country      lat  \\\n",
            "0  albert_park  Albert Park Grand Prix Circuit  Melbourne  Australia -37.8497   \n",
            "1  albert_park  Albert Park Grand Prix Circuit  Melbourne  Australia -37.8497   \n",
            "2  albert_park  Albert Park Grand Prix Circuit  Melbourne  Australia -37.8497   \n",
            "3  albert_park  Albert Park Grand Prix Circuit  Melbourne  Australia -37.8497   \n",
            "4  albert_park  Albert Park Grand Prix Circuit  Melbourne  Australia -37.8497   \n",
            "\n",
            "       lng   alt                                       url_circuits  \n",
            "0  144.968  10.0  http://en.wikipedia.org/wiki/Melbourne_Grand_P...  \n",
            "1  144.968  10.0  http://en.wikipedia.org/wiki/Melbourne_Grand_P...  \n",
            "2  144.968  10.0  http://en.wikipedia.org/wiki/Melbourne_Grand_P...  \n",
            "3  144.968  10.0  http://en.wikipedia.org/wiki/Melbourne_Grand_P...  \n",
            "4  144.968  10.0  http://en.wikipedia.org/wiki/Melbourne_Grand_P...  \n",
            "\n",
            "[5 rows x 55 columns]\n",
            "Missing Values:\n",
            " resultId                0\n",
            "raceId                  0\n",
            "driverId                0\n",
            "constructorId           0\n",
            "number_x                0\n",
            "grid                    0\n",
            "position                0\n",
            "positionText            0\n",
            "positionOrder           0\n",
            "points                  0\n",
            "laps                    0\n",
            "time_x                  0\n",
            "milliseconds            0\n",
            "fastestLap              0\n",
            "rank                    0\n",
            "fastestLapTime          0\n",
            "fastestLapSpeed         0\n",
            "statusId                0\n",
            "driverRef               0\n",
            "number_y                0\n",
            "code                    0\n",
            "forename                0\n",
            "surname                 0\n",
            "dob                     0\n",
            "nationality_x           0\n",
            "url_drivers             0\n",
            "constructorRef          0\n",
            "name_x                  0\n",
            "nationality_y           0\n",
            "url_constructors        0\n",
            "year                16328\n",
            "round               16328\n",
            "circuitId           16328\n",
            "name_y              16328\n",
            "date                16328\n",
            "time_y              16328\n",
            "url_races           16328\n",
            "fp1_date            16328\n",
            "fp1_time            16328\n",
            "fp2_date            16328\n",
            "fp2_time            16328\n",
            "fp3_date            16328\n",
            "fp3_time            16328\n",
            "quali_date          16328\n",
            "quali_time          16328\n",
            "sprint_date         16328\n",
            "sprint_time         16328\n",
            "circuitRef          16328\n",
            "name                16328\n",
            "location            16328\n",
            "country             16328\n",
            "lat                 16328\n",
            "lng                 16328\n",
            "alt                 16328\n",
            "url_circuits        16328\n",
            "dtype: int64\n",
            "\n",
            "Basic Statistics:\n",
            "            resultId        raceId      driverId  constructorId          grid  \\\n",
            "count  26759.000000  26759.000000  26759.000000   26759.000000  26759.000000   \n",
            "mean   13380.977391    551.687283    278.673530      50.180537     11.134796   \n",
            "min        1.000000      1.000000      1.000000       1.000000      0.000000   \n",
            "25%     6690.500000    300.000000     57.000000       6.000000      5.000000   \n",
            "50%    13380.000000    531.000000    172.000000      25.000000     11.000000   \n",
            "75%    20069.500000    811.000000    399.500000      63.000000     17.000000   \n",
            "max    26764.000000   1144.000000    862.000000     215.000000     34.000000   \n",
            "std     7726.134642    313.265036    282.703039      61.551498      7.202860   \n",
            "\n",
            "       positionOrder        points          laps      statusId          year  \\\n",
            "count   26759.000000  26759.000000  26759.000000  26759.000000  10431.000000   \n",
            "mean       12.794051      1.987632     46.301768     17.224971   2012.005560   \n",
            "min         1.000000      0.000000      0.000000      1.000000   1999.000000   \n",
            "25%         6.000000      0.000000     23.000000      1.000000   2006.000000   \n",
            "50%        12.000000      0.000000     53.000000     10.000000   2012.000000   \n",
            "75%        18.000000      2.000000     66.000000     14.000000   2018.000000   \n",
            "max        39.000000     50.000000    200.000000    141.000000   2024.000000   \n",
            "std         7.665951      4.351209     29.496557     26.026104      7.450879   \n",
            "\n",
            "              round     circuitId                           date  \\\n",
            "count  10431.000000  10431.000000                          10431   \n",
            "mean      10.098840     19.830218  2012-07-20 09:30:50.215703040   \n",
            "min        1.000000      1.000000            1999-03-07 00:00:00   \n",
            "25%        5.000000      6.000000            2006-05-07 00:00:00   \n",
            "50%       10.000000     13.000000            2012-09-09 00:00:00   \n",
            "75%       15.000000     21.000000            2018-10-28 00:00:00   \n",
            "max       24.000000     80.000000            2024-12-08 00:00:00   \n",
            "std        5.671556     21.261275                            NaN   \n",
            "\n",
            "                lat           lng           alt  \n",
            "count  10431.000000  10431.000000  10431.000000  \n",
            "mean      31.296614     24.689359    208.179082  \n",
            "min      -37.849700   -115.173000     -7.000000  \n",
            "25%       26.032500      2.261110     10.000000  \n",
            "50%       41.570000      9.281110    103.000000  \n",
            "75%       47.219700     54.603100    228.000000  \n",
            "max       52.388800    144.968000   2227.000000  \n",
            "std       24.317543     63.885421    349.810756  \n",
            "\n",
            "Columns in Dataset:\n",
            " Index(['resultId', 'raceId', 'driverId', 'constructorId', 'number_x', 'grid',\n",
            "       'position', 'positionText', 'positionOrder', 'points', 'laps', 'time_x',\n",
            "       'milliseconds', 'fastestLap', 'rank', 'fastestLapTime',\n",
            "       'fastestLapSpeed', 'statusId', 'driverRef', 'number_y', 'code',\n",
            "       'forename', 'surname', 'dob', 'nationality_x', 'url_drivers',\n",
            "       'constructorRef', 'name_x', 'nationality_y', 'url_constructors', 'year',\n",
            "       'round', 'circuitId', 'name_y', 'date', 'time_y', 'url_races',\n",
            "       'fp1_date', 'fp1_time', 'fp2_date', 'fp2_time', 'fp3_date', 'fp3_time',\n",
            "       'quali_date', 'quali_time', 'sprint_date', 'sprint_time', 'circuitRef',\n",
            "       'name', 'location', 'country', 'lat', 'lng', 'alt', 'url_circuits'],\n",
            "      dtype='object')\n"
          ]
        },
        {
          "name": "stderr",
          "output_type": "stream",
          "text": [
            "C:\\Users\\Default.DESKTOP-QO1EVKV\\AppData\\Local\\Temp\\ipykernel_14168\\1493752889.py:3: DtypeWarning: Columns (4) have mixed types. Specify dtype option on import or set low_memory=False.\n",
            "  df = pd.read_csv(file_path)\n"
          ]
        }
      ],
      "source": [
        "# Load the data\n",
        "file_path = \"Outputs/F1_merged_data.csv\"  #file path \n",
        "df = pd.read_csv(file_path)\n",
        "\n",
        "# Display basic structure\n",
        "print(\"Dataset Shape:\", df.shape)\n",
        "print(\"First few rows:\\n\", df.head())\n",
        "\n",
        "# Check for missing values\n",
        "print(\"Missing Values:\\n\", df.isnull().sum())\n",
        "\n",
        "# Convert relevant date fields (if applicable)\n",
        "if 'date' in df.columns:\n",
        "    df['date'] = pd.to_datetime(df['date'])\n",
        "\n",
        "# Display basic statistics\n",
        "print(\"\\nBasic Statistics:\\n\", df.describe())\n",
        "\n",
        "# Display column names to check structure\n",
        "print(\"\\nColumns in Dataset:\\n\", df.columns)"
      ]
    },
    {
      "cell_type": "markdown",
      "metadata": {},
      "source": [
        "---"
      ]
    },
    {
      "cell_type": "markdown",
      "metadata": {},
      "source": [
        "NOTE"
      ]
    },
    {
      "cell_type": "markdown",
      "metadata": {},
      "source": [
        "* You may add as many sections as you want, as long as it supports your project workflow.\n",
        "* All notebook's cells should be run top-down (you can't create a dynamic wherein a given point you need to go back to a previous cell to execute some task, like go back to a previous cell and refresh a variable content)"
      ]
    },
    {
      "cell_type": "markdown",
      "metadata": {},
      "source": [
        "---"
      ]
    },
    {
      "cell_type": "markdown",
      "metadata": {
        "id": "ltNetd085qHf"
      },
      "source": [
        "# Push files to Repo"
      ]
    },
    {
      "cell_type": "markdown",
      "metadata": {},
      "source": [
        "* In cases where you don't need to push files to Repo, you may replace this section with \"Conclusions and Next Steps\" and state your conclusions and next steps."
      ]
    },
    {
      "cell_type": "code",
      "execution_count": null,
      "metadata": {
        "id": "aKlnIozA4eQO",
        "outputId": "fd09bc1f-adb1-4511-f6ce-492a6af570c0"
      },
      "outputs": [],
      "source": [
        "\n"
      ]
    }
  ],
  "metadata": {
    "accelerator": "GPU",
    "colab": {
      "name": "Data Practitioner Jupyter Notebook.ipynb",
      "provenance": [],
      "toc_visible": true
    },
    "kernelspec": {
      "display_name": ".venv",
      "language": "python",
      "name": "python3"
    },
    "language_info": {
      "codemirror_mode": {
        "name": "ipython",
        "version": 3
      },
      "file_extension": ".py",
      "mimetype": "text/x-python",
      "name": "python",
      "nbconvert_exporter": "python",
      "pygments_lexer": "ipython3",
      "version": "3.12.8"
    },
    "orig_nbformat": 2
  },
  "nbformat": 4,
  "nbformat_minor": 2
}
