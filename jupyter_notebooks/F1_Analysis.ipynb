{
  "cells": [
    {
      "cell_type": "markdown",
      "metadata": {
        "id": "0aStgWSO0E0E"
      },
      "source": [
        "# **Formula 1 Data Analysis (1999-2024)**"
      ]
    },
    {
      "cell_type": "markdown",
      "metadata": {
        "id": "1eLEkw5O0ECa"
      },
      "source": [
        "## Objectives\n",
        "\n",
        "* The objective of this notebook is to analyse the Formula 1 data from (1999-2004)\n",
        "\n",
        "## Inputs\n",
        "\n",
        "* Write down which data or information you need to run the notebook \n",
        "\n",
        "## Outputs\n",
        "\n",
        "* Write here which files, code or artefacts you generate by the end of the notebook \n",
        "\n",
        "## Additional Comments\n",
        "\n",
        "* If you have any additional comments that don't fit in the previous bullets, please state them here. \n",
        "\n"
      ]
    },
    {
      "cell_type": "markdown",
      "metadata": {
        "id": "9uWZXH9LwoQg"
      },
      "source": [
        "---"
      ]
    },
    {
      "cell_type": "markdown",
      "metadata": {
        "id": "cqP-UeN-z3i2"
      },
      "source": [
        "# Change working directory"
      ]
    },
    {
      "cell_type": "markdown",
      "metadata": {},
      "source": [
        "* We are assuming you will store the notebooks in a subfolder, therefore when running the notebook in the editor, you will need to change the working directory"
      ]
    },
    {
      "cell_type": "markdown",
      "metadata": {
        "id": "aOGIGS-uz3i2"
      },
      "source": [
        "We need to change the working directory from its current folder to its parent folder\n",
        "* We access the current directory with os.getcwd()"
      ]
    },
    {
      "cell_type": "code",
      "execution_count": 1,
      "metadata": {
        "id": "wZfF_j-Bz3i4",
        "outputId": "66943449-1436-4c3d-85c7-b85f9f78349b"
      },
      "outputs": [
        {
          "data": {
            "text/plain": [
              "'c:\\\\Users\\\\Default.DESKTOP-QO1EVKV\\\\OneDrive\\\\Documents\\\\GitHubRepos\\\\Formula1\\\\jupyter_notebooks'"
            ]
          },
          "execution_count": 1,
          "metadata": {},
          "output_type": "execute_result"
        }
      ],
      "source": [
        "import os\n",
        "current_dir = os.getcwd()\n",
        "current_dir"
      ]
    },
    {
      "cell_type": "markdown",
      "metadata": {
        "id": "9MWW8E7lz3i7"
      },
      "source": [
        "We want to make the parent of the current directory the new current directory\n",
        "* os.path.dirname() gets the parent directory\n",
        "* os.chir() defines the new current directory"
      ]
    },
    {
      "cell_type": "code",
      "execution_count": 2,
      "metadata": {
        "id": "TwHsQRWjz3i9",
        "outputId": "86849db3-cd2f-4cc5-ebb8-2d0caafa1a2c"
      },
      "outputs": [
        {
          "name": "stdout",
          "output_type": "stream",
          "text": [
            "You set a new current directory\n"
          ]
        }
      ],
      "source": [
        "os.chdir(os.path.dirname(current_dir))\n",
        "print(\"You set a new current directory\")"
      ]
    },
    {
      "cell_type": "markdown",
      "metadata": {
        "id": "M_xPk_Ijz3i-"
      },
      "source": [
        "Confirm the new current directory"
      ]
    },
    {
      "cell_type": "code",
      "execution_count": 3,
      "metadata": {
        "id": "vz3S-_kjz3jA",
        "outputId": "00b79ae4-75d0-4a96-d193-ac9ef9847ea2"
      },
      "outputs": [
        {
          "data": {
            "text/plain": [
              "'c:\\\\Users\\\\Default.DESKTOP-QO1EVKV\\\\OneDrive\\\\Documents\\\\GitHubRepos\\\\Formula1'"
            ]
          },
          "execution_count": 3,
          "metadata": {},
          "output_type": "execute_result"
        }
      ],
      "source": [
        "current_dir = os.getcwd()\n",
        "current_dir"
      ]
    },
    {
      "cell_type": "markdown",
      "metadata": {
        "id": "-mavJ8DibrcQ"
      },
      "source": [
        "# Section 1: ETL Process"
      ]
    },
    {
      "cell_type": "markdown",
      "metadata": {},
      "source": [
        "1.1  Extract: Import Libraries,Extracting and loading of data"
      ]
    },
    {
      "cell_type": "code",
      "execution_count": 4,
      "metadata": {},
      "outputs": [],
      "source": [
        "# Import required libaries \n",
        "import pandas as pd\n",
        "import numpy as np\n",
        "import matplotlib.pyplot as plt\n",
        "import seaborn as sns"
      ]
    },
    {
      "cell_type": "markdown",
      "metadata": {},
      "source": [
        "* Load the following Datasets from the (Inputs) Folder"
      ]
    },
    {
      "cell_type": "code",
      "execution_count": 5,
      "metadata": {},
      "outputs": [],
      "source": [
        "# Load the data\n",
        "races = pd.read_csv('Inputs/races.csv')\n",
        "results = pd.read_csv('Inputs/results.csv')\n",
        "drivers = pd.read_csv('Inputs/drivers.csv')\n",
        "constructors = pd.read_csv('Inputs/constructors.csv')\n",
        "circuits = pd.read_csv('Inputs/circuits.csv')\n",
        "lap_times = pd.read_csv('Inputs/lap_times.csv')\n",
        "pit_stops = pd.read_csv('Inputs/pit_stops.csv')\n",
        "qualifying = pd.read_csv('Inputs/qualifying.csv')  \n",
        "\n",
        "# Reduce the data set for races from 1999-2024  \n",
        "races = races[(races['year'] >= 1999) & (races['year'] <= 2024)] \n"
      ]
    },
    {
      "cell_type": "markdown",
      "metadata": {},
      "source": [
        "* Check the shape of the data sets to confirm the data has loaded properly"
      ]
    },
    {
      "cell_type": "code",
      "execution_count": 6,
      "metadata": {},
      "outputs": [
        {
          "name": "stdout",
          "output_type": "stream",
          "text": [
            "\n",
            "Dataset Shapes:\n",
            "races: (495, 18)\n",
            "results: (26759, 18)\n",
            "drivers: (861, 9)\n",
            "constructors: (212, 5)\n",
            "circuits: (77, 9)\n",
            "lap_times: (589081, 6)\n",
            "pit_stops: (11371, 7)\n",
            "qualifying: (10494, 9)\n"
          ]
        }
      ],
      "source": [
        "# Check the shape of the each data sets \n",
        "\n",
        "print('\\nDataset Shapes:') \n",
        "print('races:', races.shape) \n",
        "print('results:', results.shape) \n",
        "print('drivers:', drivers.shape) \n",
        "print('constructors:', constructors.shape) \n",
        "print('circuits:', circuits.shape) \n",
        "print('lap_times:', lap_times.shape) \n",
        "print('pit_stops:', pit_stops.shape) \n",
        "print('qualifying:', qualifying.shape)  \n",
        "\n"
      ]
    },
    {
      "cell_type": "markdown",
      "metadata": {
        "id": "ZY3l0-AxO93d"
      },
      "source": [
        "---"
      ]
    },
    {
      "cell_type": "markdown",
      "metadata": {},
      "source": [
        "* Check for missing values in the datasets"
      ]
    },
    {
      "cell_type": "code",
      "execution_count": 7,
      "metadata": {},
      "outputs": [
        {
          "name": "stdout",
          "output_type": "stream",
          "text": [
            "Missing Values:\n",
            "races: raceId         0\n",
            "year           0\n",
            "round          0\n",
            "circuitId      0\n",
            "name           0\n",
            "date           0\n",
            "time           0\n",
            "url            0\n",
            "fp1_date       0\n",
            "fp1_time       0\n",
            "fp2_date       0\n",
            "fp2_time       0\n",
            "fp3_date       0\n",
            "fp3_time       0\n",
            "quali_date     0\n",
            "quali_time     0\n",
            "sprint_date    0\n",
            "sprint_time    0\n",
            "dtype: int64\n",
            "results: resultId           0\n",
            "raceId             0\n",
            "driverId           0\n",
            "constructorId      0\n",
            "number             0\n",
            "grid               0\n",
            "position           0\n",
            "positionText       0\n",
            "positionOrder      0\n",
            "points             0\n",
            "laps               0\n",
            "time               0\n",
            "milliseconds       0\n",
            "fastestLap         0\n",
            "rank               0\n",
            "fastestLapTime     0\n",
            "fastestLapSpeed    0\n",
            "statusId           0\n",
            "dtype: int64\n",
            "drivers: driverId       0\n",
            "driverRef      0\n",
            "number         0\n",
            "code           0\n",
            "forename       0\n",
            "surname        0\n",
            "dob            0\n",
            "nationality    0\n",
            "url            0\n",
            "dtype: int64\n",
            "constructors: constructorId     0\n",
            "constructorRef    0\n",
            "name              0\n",
            "nationality       0\n",
            "url               0\n",
            "dtype: int64\n",
            "circuits: circuitId     0\n",
            "circuitRef    0\n",
            "name          0\n",
            "location      0\n",
            "country       0\n",
            "lat           0\n",
            "lng           0\n",
            "alt           0\n",
            "url           0\n",
            "dtype: int64\n",
            "lap_times: raceId          0\n",
            "driverId        0\n",
            "lap             0\n",
            "position        0\n",
            "time            0\n",
            "milliseconds    0\n",
            "dtype: int64\n",
            "pit_stops: raceId          0\n",
            "driverId        0\n",
            "stop            0\n",
            "lap             0\n",
            "time            0\n",
            "duration        0\n",
            "milliseconds    0\n",
            "dtype: int64\n",
            "qualifying: qualifyId         0\n",
            "raceId            0\n",
            "driverId          0\n",
            "constructorId     0\n",
            "number            0\n",
            "position          0\n",
            "q1                0\n",
            "q2               22\n",
            "q3               46\n",
            "dtype: int64\n"
          ]
        }
      ],
      "source": [
        "#Check for missing values in the datasets  \n",
        "print('Missing Values:') \n",
        "print('races:', races.isnull().sum())\n",
        "print('results:', results.isnull().sum())  \n",
        "print('drivers:', drivers.isnull().sum()) \n",
        "print('constructors:', constructors.isnull().sum()) \n",
        "print('circuits:', circuits.isnull().sum())  \n",
        "print('lap_times:', lap_times.isnull().sum()) \n",
        "print('pit_stops:', pit_stops.isnull().sum())  \n",
        "print('qualifying:', qualifying.isnull().sum())  \n"
      ]
    },
    {
      "cell_type": "markdown",
      "metadata": {},
      "source": [
        "* All the data is clean apart from q2 and q3 which I would expect considering it is qualifying for the race and will leave them in"
      ]
    },
    {
      "cell_type": "markdown",
      "metadata": {},
      "source": [
        "---"
      ]
    },
    {
      "cell_type": "markdown",
      "metadata": {},
      "source": [
        "* Data now needs merging ready for the EDA process to help analyse the hypothesis"
      ]
    },
    {
      "cell_type": "markdown",
      "metadata": {},
      "source": [
        "* Merge results with drivers"
      ]
    },
    {
      "cell_type": "code",
      "execution_count": 10,
      "metadata": {},
      "outputs": [
        {
          "name": "stdout",
          "output_type": "stream",
          "text": [
            "   resultId  raceId  driverId  constructorId number_x  grid position  \\\n",
            "0         1      18         1              1       22     1        1   \n",
            "1         2      18         2              2        3     5        2   \n",
            "2         3      18         3              3        7     7        3   \n",
            "3         4      18         4              4        5    11        4   \n",
            "4         5      18         5              1       23     3        5   \n",
            "\n",
            "  positionText  positionOrder  points  ...  fastestLapSpeed statusId  \\\n",
            "0            1              1    10.0  ...          218.300        1   \n",
            "1            2              2     8.0  ...          217.586        1   \n",
            "2            3              3     6.0  ...          216.719        1   \n",
            "3            4              4     5.0  ...          215.464        1   \n",
            "4            5              5     4.0  ...          218.385        1   \n",
            "\n",
            "    driverRef number_y code  forename     surname         dob nationality  \\\n",
            "0    hamilton       44  HAM     Lewis    Hamilton  1985-01-07     British   \n",
            "1    heidfeld       \\N  HEI      Nick    Heidfeld  1977-05-10      German   \n",
            "2     rosberg        6  ROS      Nico     Rosberg  1985-06-27      German   \n",
            "3      alonso       14  ALO  Fernando      Alonso  1981-07-29     Spanish   \n",
            "4  kovalainen       \\N  KOV    Heikki  Kovalainen  1981-10-19     Finnish   \n",
            "\n",
            "                                              url  \n",
            "0     http://en.wikipedia.org/wiki/Lewis_Hamilton  \n",
            "1      http://en.wikipedia.org/wiki/Nick_Heidfeld  \n",
            "2       http://en.wikipedia.org/wiki/Nico_Rosberg  \n",
            "3    http://en.wikipedia.org/wiki/Fernando_Alonso  \n",
            "4  http://en.wikipedia.org/wiki/Heikki_Kovalainen  \n",
            "\n",
            "[5 rows x 26 columns]\n"
          ]
        }
      ],
      "source": [
        "# Merge results with drivers\n",
        "results_drivers = results.merge(drivers, on='driverId', how='left')\n",
        "print(results_drivers.head())\n",
        "\n"
      ]
    },
    {
      "cell_type": "markdown",
      "metadata": {},
      "source": [
        "* Add constructor Information by merging results_drivers dataframe with constructors dataset"
      ]
    },
    {
      "cell_type": "code",
      "execution_count": 11,
      "metadata": {},
      "outputs": [
        {
          "name": "stdout",
          "output_type": "stream",
          "text": [
            "   resultId  raceId  driverId  constructorId number_x  grid position  \\\n",
            "0         1      18         1              1       22     1        1   \n",
            "1         2      18         2              2        3     5        2   \n",
            "2         3      18         3              3        7     7        3   \n",
            "3         4      18         4              4        5    11        4   \n",
            "4         5      18         5              1       23     3        5   \n",
            "\n",
            "  positionText  positionOrder  points  ...  code  forename     surname  \\\n",
            "0            1              1    10.0  ...   HAM     Lewis    Hamilton   \n",
            "1            2              2     8.0  ...   HEI      Nick    Heidfeld   \n",
            "2            3              3     6.0  ...   ROS      Nico     Rosberg   \n",
            "3            4              4     5.0  ...   ALO  Fernando      Alonso   \n",
            "4            5              5     4.0  ...   KOV    Heikki  Kovalainen   \n",
            "\n",
            "          dob nationality_x                                           url_x  \\\n",
            "0  1985-01-07       British     http://en.wikipedia.org/wiki/Lewis_Hamilton   \n",
            "1  1977-05-10        German      http://en.wikipedia.org/wiki/Nick_Heidfeld   \n",
            "2  1985-06-27        German       http://en.wikipedia.org/wiki/Nico_Rosberg   \n",
            "3  1981-07-29       Spanish    http://en.wikipedia.org/wiki/Fernando_Alonso   \n",
            "4  1981-10-19       Finnish  http://en.wikipedia.org/wiki/Heikki_Kovalainen   \n",
            "\n",
            "  constructorRef        name nationality_y  \\\n",
            "0        mclaren     McLaren       British   \n",
            "1     bmw_sauber  BMW Sauber        German   \n",
            "2       williams    Williams       British   \n",
            "3        renault     Renault        French   \n",
            "4        mclaren     McLaren       British   \n",
            "\n",
            "                                               url_y  \n",
            "0               http://en.wikipedia.org/wiki/McLaren  \n",
            "1            http://en.wikipedia.org/wiki/BMW_Sauber  \n",
            "2  http://en.wikipedia.org/wiki/Williams_Grand_Pr...  \n",
            "3  http://en.wikipedia.org/wiki/Renault_in_Formul...  \n",
            "4               http://en.wikipedia.org/wiki/McLaren  \n",
            "\n",
            "[5 rows x 30 columns]\n"
          ]
        }
      ],
      "source": [
        "# Merge with constructors\n",
        "results_drivers_constructors = results_drivers.merge(constructors, on='constructorId', how='left')\n",
        "print(results_drivers_constructors.head())\n"
      ]
    },
    {
      "cell_type": "markdown",
      "metadata": {},
      "source": [
        "* Now races needs to be added to results_drivers_constructors dateframe "
      ]
    },
    {
      "cell_type": "code",
      "execution_count": 16,
      "metadata": {},
      "outputs": [
        {
          "name": "stdout",
          "output_type": "stream",
          "text": [
            "   resultId  raceId  driverId  constructorId number_x  grid position  \\\n",
            "0         1      18         1              1       22     1        1   \n",
            "1         2      18         2              2        3     5        2   \n",
            "2         3      18         3              3        7     7        3   \n",
            "3         4      18         4              4        5    11        4   \n",
            "4         5      18         5              1       23     3        5   \n",
            "\n",
            "  positionText  positionOrder  points  ...  fp1_date fp1_time fp2_date  \\\n",
            "0            1              1    10.0  ...        \\N       \\N       \\N   \n",
            "1            2              2     8.0  ...        \\N       \\N       \\N   \n",
            "2            3              3     6.0  ...        \\N       \\N       \\N   \n",
            "3            4              4     5.0  ...        \\N       \\N       \\N   \n",
            "4            5              5     4.0  ...        \\N       \\N       \\N   \n",
            "\n",
            "  fp2_time fp3_date fp3_time quali_date  quali_time sprint_date sprint_time  \n",
            "0       \\N       \\N       \\N         \\N          \\N          \\N          \\N  \n",
            "1       \\N       \\N       \\N         \\N          \\N          \\N          \\N  \n",
            "2       \\N       \\N       \\N         \\N          \\N          \\N          \\N  \n",
            "3       \\N       \\N       \\N         \\N          \\N          \\N          \\N  \n",
            "4       \\N       \\N       \\N         \\N          \\N          \\N          \\N  \n",
            "\n",
            "[5 rows x 47 columns]\n"
          ]
        }
      ],
      "source": [
        "# Merge with races \n",
        "results_drivers_constructors_races = results_drivers_constructors.merge(races, on='raceId' , how='left')\n",
        "print(results_drivers_constructors_races.head())\n",
        "\n",
        "\n"
      ]
    },
    {
      "cell_type": "markdown",
      "metadata": {},
      "source": [
        "* Merge with Circuits dataset to results_drivers_constructors_races dataframe "
      ]
    },
    {
      "cell_type": "code",
      "execution_count": 20,
      "metadata": {},
      "outputs": [
        {
          "name": "stdout",
          "output_type": "stream",
          "text": [
            "Index(['resultId', 'raceId', 'driverId', 'constructorId', 'number_x', 'grid',\n",
            "       'position', 'positionText', 'positionOrder', 'points', 'laps', 'time_x',\n",
            "       'milliseconds', 'fastestLap', 'rank', 'fastestLapTime',\n",
            "       'fastestLapSpeed', 'statusId', 'driverRef', 'number_y', 'code',\n",
            "       'forename', 'surname', 'dob', 'nationality_x', 'url_x',\n",
            "       'constructorRef', 'name_x', 'nationality_y', 'url_y', 'year', 'round',\n",
            "       'circuitId', 'name_y', 'date', 'time_y', 'url', 'fp1_date', 'fp1_time',\n",
            "       'fp2_date', 'fp2_time', 'fp3_date', 'fp3_time', 'quali_date',\n",
            "       'quali_time', 'sprint_date', 'sprint_time'],\n",
            "      dtype='object')\n"
          ]
        }
      ],
      "source": [
        "print(results_drivers_constructors_races.columns)\n"
      ]
    },
    {
      "cell_type": "markdown",
      "metadata": {
        "id": "uFQo3ycuO-v6"
      },
      "source": [
        "# Section 2"
      ]
    },
    {
      "cell_type": "markdown",
      "metadata": {},
      "source": [
        "Section 2 content"
      ]
    },
    {
      "cell_type": "code",
      "execution_count": null,
      "metadata": {},
      "outputs": [],
      "source": []
    },
    {
      "cell_type": "markdown",
      "metadata": {},
      "source": [
        "---"
      ]
    },
    {
      "cell_type": "markdown",
      "metadata": {},
      "source": [
        "NOTE"
      ]
    },
    {
      "cell_type": "markdown",
      "metadata": {},
      "source": [
        "* You may add as many sections as you want, as long as it supports your project workflow.\n",
        "* All notebook's cells should be run top-down (you can't create a dynamic wherein a given point you need to go back to a previous cell to execute some task, like go back to a previous cell and refresh a variable content)"
      ]
    },
    {
      "cell_type": "markdown",
      "metadata": {},
      "source": [
        "---"
      ]
    },
    {
      "cell_type": "markdown",
      "metadata": {
        "id": "ltNetd085qHf"
      },
      "source": [
        "# Push files to Repo"
      ]
    },
    {
      "cell_type": "markdown",
      "metadata": {},
      "source": [
        "* In cases where you don't need to push files to Repo, you may replace this section with \"Conclusions and Next Steps\" and state your conclusions and next steps."
      ]
    },
    {
      "cell_type": "code",
      "execution_count": null,
      "metadata": {
        "id": "aKlnIozA4eQO",
        "outputId": "fd09bc1f-adb1-4511-f6ce-492a6af570c0"
      },
      "outputs": [],
      "source": [
        "import os\n",
        "try:\n",
        "  # create your folder here\n",
        "  # os.makedirs(name='')\n",
        "except Exception as e:\n",
        "  print(e)\n"
      ]
    }
  ],
  "metadata": {
    "accelerator": "GPU",
    "colab": {
      "name": "Data Practitioner Jupyter Notebook.ipynb",
      "provenance": [],
      "toc_visible": true
    },
    "kernelspec": {
      "display_name": ".venv",
      "language": "python",
      "name": "python3"
    },
    "language_info": {
      "codemirror_mode": {
        "name": "ipython",
        "version": 3
      },
      "file_extension": ".py",
      "mimetype": "text/x-python",
      "name": "python",
      "nbconvert_exporter": "python",
      "pygments_lexer": "ipython3",
      "version": "3.12.8"
    },
    "orig_nbformat": 2
  },
  "nbformat": 4,
  "nbformat_minor": 2
}
